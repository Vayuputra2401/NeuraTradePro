{
 "cells": [
  {
   "cell_type": "code",
   "execution_count": null,
   "metadata": {
    "collapsed": true
   },
   "outputs": [],
   "source": [
    "!pip install yfinance"
   ]
  },
  {
   "cell_type": "code",
   "execution_count": null,
   "metadata": {
    "collapsed": true
   },
   "outputs": [],
   "source": [
    "import yfinance as yf\n",
    "\n",
    "# Define the ticker symbol\n",
    "ticker_symbol = \"RELIANCE.NS\"\n",
    "\n",
    "# Create a ticker object\n",
    "ticker = yf.Ticker(ticker_symbol)\n",
    "\n",
    "# Download historical data\n",
    "historical_data = ticker.history(start=\"2000-01-01\", end=\"2022-12-31\", interval='1d')\n",
    "#historical_data = ticker.history(period=\"1020d\", interval='1h')"
   ]
  },
  {
   "cell_type": "code",
   "execution_count": null,
   "metadata": {
    "collapsed": true
   },
   "outputs": [],
   "source": [
    "!pip install pandas"
   ]
  },
  {
   "cell_type": "code",
   "execution_count": null,
   "metadata": {
    "collapsed": true
   },
   "outputs": [],
   "source": [
    "!pip install numexpr"
   ]
  },
  {
   "cell_type": "code",
   "execution_count": null,
   "metadata": {
    "collapsed": true
   },
   "outputs": [],
   "source": [
    "!pip install numexpr==2.7.0"
   ]
  },
  {
   "cell_type": "code",
   "execution_count": null,
   "metadata": {
    "collapsed": true
   },
   "outputs": [],
   "source": [
    "import yfinance as yf\n",
    "\n",
    "# Define the ticker symbol\n",
    "ticker_symbol = \"RELIANCE.NS\"\n",
    "\n",
    "# Create a ticker object\n",
    "ticker = yf.Ticker(ticker_symbol)\n",
    "\n",
    "# Download historical data\n",
    "historical_data = ticker.history(start=\"2000-01-01\", end=\"2022-12-31\", interval='1d')"
   ]
  },
  {
   "cell_type": "code",
   "execution_count": null,
   "metadata": {
    "collapsed": true
   },
   "outputs": [],
   "source": [
    "len(historical_data)"
   ]
  },
  {
   "cell_type": "code",
   "execution_count": null,
   "metadata": {
    "collapsed": true
   },
   "outputs": [],
   "source": [
    "historical_data"
   ]
  },
  {
   "cell_type": "code",
   "execution_count": 30,
   "metadata": {},
   "outputs": [
    {
     "data": {
      "text/html": [
       "<div>\n",
       "<style scoped>\n",
       "    .dataframe tbody tr th:only-of-type {\n",
       "        vertical-align: middle;\n",
       "    }\n",
       "\n",
       "    .dataframe tbody tr th {\n",
       "        vertical-align: top;\n",
       "    }\n",
       "\n",
       "    .dataframe thead th {\n",
       "        text-align: right;\n",
       "    }\n",
       "</style>\n",
       "<table border=\"1\" class=\"dataframe\">\n",
       "  <thead>\n",
       "    <tr style=\"text-align: right;\">\n",
       "      <th></th>\n",
       "      <th>Date</th>\n",
       "      <th>Open</th>\n",
       "      <th>High</th>\n",
       "      <th>Low</th>\n",
       "      <th>Close</th>\n",
       "      <th>Adj Close</th>\n",
       "      <th>Volume</th>\n",
       "    </tr>\n",
       "  </thead>\n",
       "  <tbody>\n",
       "    <tr>\n",
       "      <th>6941</th>\n",
       "      <td>2023-07-28</td>\n",
       "      <td>2512.050049</td>\n",
       "      <td>2542.850098</td>\n",
       "      <td>2500.550049</td>\n",
       "      <td>2527.850098</td>\n",
       "      <td>2527.850098</td>\n",
       "      <td>10413926.0</td>\n",
       "    </tr>\n",
       "    <tr>\n",
       "      <th>6942</th>\n",
       "      <td>2023-07-31</td>\n",
       "      <td>2527.850098</td>\n",
       "      <td>2553.899902</td>\n",
       "      <td>2517.949951</td>\n",
       "      <td>2549.250000</td>\n",
       "      <td>2549.250000</td>\n",
       "      <td>4275587.0</td>\n",
       "    </tr>\n",
       "    <tr>\n",
       "      <th>6943</th>\n",
       "      <td>2023-08-01</td>\n",
       "      <td>2555.000000</td>\n",
       "      <td>2559.000000</td>\n",
       "      <td>2505.300049</td>\n",
       "      <td>2513.199951</td>\n",
       "      <td>2513.199951</td>\n",
       "      <td>4768316.0</td>\n",
       "    </tr>\n",
       "    <tr>\n",
       "      <th>6944</th>\n",
       "      <td>2023-08-02</td>\n",
       "      <td>2509.199951</td>\n",
       "      <td>2512.000000</td>\n",
       "      <td>2463.600098</td>\n",
       "      <td>2486.350098</td>\n",
       "      <td>2486.350098</td>\n",
       "      <td>6374107.0</td>\n",
       "    </tr>\n",
       "    <tr>\n",
       "      <th>6945</th>\n",
       "      <td>2023-08-03</td>\n",
       "      <td>2475.300049</td>\n",
       "      <td>2500.899902</td>\n",
       "      <td>2458.050049</td>\n",
       "      <td>2475.899902</td>\n",
       "      <td>2475.899902</td>\n",
       "      <td>5084175.0</td>\n",
       "    </tr>\n",
       "  </tbody>\n",
       "</table>\n",
       "</div>"
      ],
      "text/plain": [
       "            Date         Open         High          Low        Close  \\\n",
       "6941  2023-07-28  2512.050049  2542.850098  2500.550049  2527.850098   \n",
       "6942  2023-07-31  2527.850098  2553.899902  2517.949951  2549.250000   \n",
       "6943  2023-08-01  2555.000000  2559.000000  2505.300049  2513.199951   \n",
       "6944  2023-08-02  2509.199951  2512.000000  2463.600098  2486.350098   \n",
       "6945  2023-08-03  2475.300049  2500.899902  2458.050049  2475.899902   \n",
       "\n",
       "        Adj Close      Volume  \n",
       "6941  2527.850098  10413926.0  \n",
       "6942  2549.250000   4275587.0  \n",
       "6943  2513.199951   4768316.0  \n",
       "6944  2486.350098   6374107.0  \n",
       "6945  2475.899902   5084175.0  "
      ]
     },
     "execution_count": 30,
     "metadata": {},
     "output_type": "execute_result"
    }
   ],
   "source": [
    "import pandas as pd\n",
    "df = pd.read_csv(\"RELIANCE.NS.csv\")\n",
    "df.tail()"
   ]
  },
  {
   "cell_type": "code",
   "execution_count": 31,
   "metadata": {},
   "outputs": [
    {
     "data": {
      "text/plain": [
       "Date          0\n",
       "Open         10\n",
       "High         10\n",
       "Low          10\n",
       "Close        10\n",
       "Adj Close    10\n",
       "Volume       10\n",
       "dtype: int64"
      ]
     },
     "execution_count": 31,
     "metadata": {},
     "output_type": "execute_result"
    }
   ],
   "source": [
    "#Check if any zero volumes are available\n",
    "indexZeros = df[ df['Volume'] == 0 ].index\n",
    "\n",
    "df.drop(indexZeros , inplace=True)\n",
    "df.loc[(df[\"Volume\"] == 0 )]\n",
    "df.isna().sum()"
   ]
  },
  {
   "cell_type": "code",
   "execution_count": null,
   "metadata": {
    "collapsed": true
   },
   "outputs": [],
   "source": [
    "! pip install pandas-ta"
   ]
  },
  {
   "cell_type": "code",
   "execution_count": 32,
   "metadata": {},
   "outputs": [],
   "source": [
    "import numpy as np\n",
    "import pandas_ta as ta\n",
    "#df.ta.indicators()\n",
    "#help(ta.atr)\n",
    "df['ATR'] = df.ta.atr(length=20)\n",
    "df['RSI'] = df.ta.rsi()\n",
    "df['Average'] = df.ta.midprice(length=1) #midprice\n",
    "df['MA40'] = df.ta.sma(length=40)\n",
    "df['MA80'] = df.ta.sma(length=80)\n",
    "df['MA160'] = df.ta.sma(length=160)\n",
    "\n",
    "from scipy.stats import linregress\n",
    "def get_slope(array):\n",
    "    y = np.array(array)\n",
    "    x = np.arange(len(y))\n",
    "    slope, intercept, r_value, p_value, std_err = linregress(x,y)\n",
    "    return slope\n",
    "\n",
    "#!!!!!!!!!!!!!!!!!!!!!!!!!!!!!\n",
    "backrollingN = 6\n",
    "#!!!!!!!!!!!!!!!!!!!!!!!!!!!!!\n",
    "df['slopeMA40'] = df['MA40'].rolling(window=backrollingN).apply(get_slope, raw=True)\n",
    "df['slopeMA80'] = df['MA80'].rolling(window=backrollingN).apply(get_slope, raw=True)\n",
    "df['slopeMA160'] = df['MA160'].rolling(window=backrollingN).apply(get_slope, raw=True)\n",
    "df['AverageSlope'] = df['Average'].rolling(window=backrollingN).apply(get_slope, raw=True)\n",
    "df['RSISlope'] = df['RSI'].rolling(window=backrollingN).apply(get_slope, raw=True)"
   ]
  },
  {
   "cell_type": "code",
   "execution_count": 33,
   "metadata": {},
   "outputs": [
    {
     "data": {
      "text/html": [
       "<div>\n",
       "<style scoped>\n",
       "    .dataframe tbody tr th:only-of-type {\n",
       "        vertical-align: middle;\n",
       "    }\n",
       "\n",
       "    .dataframe tbody tr th {\n",
       "        vertical-align: top;\n",
       "    }\n",
       "\n",
       "    .dataframe thead th {\n",
       "        text-align: right;\n",
       "    }\n",
       "</style>\n",
       "<table border=\"1\" class=\"dataframe\">\n",
       "  <thead>\n",
       "    <tr style=\"text-align: right;\">\n",
       "      <th></th>\n",
       "      <th>Date</th>\n",
       "      <th>Open</th>\n",
       "      <th>High</th>\n",
       "      <th>Low</th>\n",
       "      <th>Close</th>\n",
       "      <th>Adj Close</th>\n",
       "      <th>Volume</th>\n",
       "      <th>ATR</th>\n",
       "      <th>RSI</th>\n",
       "      <th>Average</th>\n",
       "      <th>MA40</th>\n",
       "      <th>MA80</th>\n",
       "      <th>MA160</th>\n",
       "      <th>slopeMA40</th>\n",
       "      <th>slopeMA80</th>\n",
       "      <th>slopeMA160</th>\n",
       "      <th>AverageSlope</th>\n",
       "      <th>RSISlope</th>\n",
       "    </tr>\n",
       "  </thead>\n",
       "  <tbody>\n",
       "    <tr>\n",
       "      <th>6941</th>\n",
       "      <td>2023-07-28</td>\n",
       "      <td>2512.050049</td>\n",
       "      <td>2542.850098</td>\n",
       "      <td>2500.550049</td>\n",
       "      <td>2527.850098</td>\n",
       "      <td>2527.850098</td>\n",
       "      <td>10413926.0</td>\n",
       "      <td>55.903813</td>\n",
       "      <td>43.020202</td>\n",
       "      <td>2521.700074</td>\n",
       "      <td>2581.683752</td>\n",
       "      <td>2497.971262</td>\n",
       "      <td>2462.486884</td>\n",
       "      <td>0.195571</td>\n",
       "      <td>3.414000</td>\n",
       "      <td>-1.319804</td>\n",
       "      <td>-4.249275</td>\n",
       "      <td>0.613306</td>\n",
       "    </tr>\n",
       "    <tr>\n",
       "      <th>6942</th>\n",
       "      <td>2023-07-31</td>\n",
       "      <td>2527.850098</td>\n",
       "      <td>2553.899902</td>\n",
       "      <td>2517.949951</td>\n",
       "      <td>2549.250000</td>\n",
       "      <td>2549.250000</td>\n",
       "      <td>4275587.0</td>\n",
       "      <td>54.906120</td>\n",
       "      <td>45.365362</td>\n",
       "      <td>2535.924926</td>\n",
       "      <td>2583.833752</td>\n",
       "      <td>2500.698761</td>\n",
       "      <td>2461.605946</td>\n",
       "      <td>0.485465</td>\n",
       "      <td>3.375071</td>\n",
       "      <td>-1.200205</td>\n",
       "      <td>8.694284</td>\n",
       "      <td>1.513854</td>\n",
       "    </tr>\n",
       "    <tr>\n",
       "      <th>6943</th>\n",
       "      <td>2023-08-01</td>\n",
       "      <td>2555.000000</td>\n",
       "      <td>2559.000000</td>\n",
       "      <td>2505.300049</td>\n",
       "      <td>2513.199951</td>\n",
       "      <td>2513.199951</td>\n",
       "      <td>4768316.0</td>\n",
       "      <td>54.845812</td>\n",
       "      <td>42.213402</td>\n",
       "      <td>2532.150024</td>\n",
       "      <td>2585.283752</td>\n",
       "      <td>2502.970636</td>\n",
       "      <td>2460.747821</td>\n",
       "      <td>0.992536</td>\n",
       "      <td>3.133411</td>\n",
       "      <td>-1.061893</td>\n",
       "      <td>7.577860</td>\n",
       "      <td>1.030470</td>\n",
       "    </tr>\n",
       "    <tr>\n",
       "      <th>6944</th>\n",
       "      <td>2023-08-02</td>\n",
       "      <td>2509.199951</td>\n",
       "      <td>2512.000000</td>\n",
       "      <td>2463.600098</td>\n",
       "      <td>2486.350098</td>\n",
       "      <td>2486.350098</td>\n",
       "      <td>6374107.0</td>\n",
       "      <td>54.583514</td>\n",
       "      <td>39.985094</td>\n",
       "      <td>2487.800049</td>\n",
       "      <td>2585.511255</td>\n",
       "      <td>2504.976886</td>\n",
       "      <td>2459.729697</td>\n",
       "      <td>1.186323</td>\n",
       "      <td>2.799643</td>\n",
       "      <td>-0.984910</td>\n",
       "      <td>-2.066424</td>\n",
       "      <td>-0.051582</td>\n",
       "    </tr>\n",
       "    <tr>\n",
       "      <th>6945</th>\n",
       "      <td>2023-08-03</td>\n",
       "      <td>2475.300049</td>\n",
       "      <td>2500.899902</td>\n",
       "      <td>2458.050049</td>\n",
       "      <td>2475.899902</td>\n",
       "      <td>2475.899902</td>\n",
       "      <td>5084175.0</td>\n",
       "      <td>53.996831</td>\n",
       "      <td>39.119556</td>\n",
       "      <td>2479.474976</td>\n",
       "      <td>2585.425000</td>\n",
       "      <td>2506.657510</td>\n",
       "      <td>2458.897195</td>\n",
       "      <td>1.110929</td>\n",
       "      <td>2.429768</td>\n",
       "      <td>-0.911696</td>\n",
       "      <td>-7.945717</td>\n",
       "      <td>-0.507400</td>\n",
       "    </tr>\n",
       "  </tbody>\n",
       "</table>\n",
       "</div>"
      ],
      "text/plain": [
       "            Date         Open         High          Low        Close  \\\n",
       "6941  2023-07-28  2512.050049  2542.850098  2500.550049  2527.850098   \n",
       "6942  2023-07-31  2527.850098  2553.899902  2517.949951  2549.250000   \n",
       "6943  2023-08-01  2555.000000  2559.000000  2505.300049  2513.199951   \n",
       "6944  2023-08-02  2509.199951  2512.000000  2463.600098  2486.350098   \n",
       "6945  2023-08-03  2475.300049  2500.899902  2458.050049  2475.899902   \n",
       "\n",
       "        Adj Close      Volume        ATR        RSI      Average         MA40  \\\n",
       "6941  2527.850098  10413926.0  55.903813  43.020202  2521.700074  2581.683752   \n",
       "6942  2549.250000   4275587.0  54.906120  45.365362  2535.924926  2583.833752   \n",
       "6943  2513.199951   4768316.0  54.845812  42.213402  2532.150024  2585.283752   \n",
       "6944  2486.350098   6374107.0  54.583514  39.985094  2487.800049  2585.511255   \n",
       "6945  2475.899902   5084175.0  53.996831  39.119556  2479.474976  2585.425000   \n",
       "\n",
       "             MA80        MA160  slopeMA40  slopeMA80  slopeMA160  \\\n",
       "6941  2497.971262  2462.486884   0.195571   3.414000   -1.319804   \n",
       "6942  2500.698761  2461.605946   0.485465   3.375071   -1.200205   \n",
       "6943  2502.970636  2460.747821   0.992536   3.133411   -1.061893   \n",
       "6944  2504.976886  2459.729697   1.186323   2.799643   -0.984910   \n",
       "6945  2506.657510  2458.897195   1.110929   2.429768   -0.911696   \n",
       "\n",
       "      AverageSlope  RSISlope  \n",
       "6941     -4.249275  0.613306  \n",
       "6942      8.694284  1.513854  \n",
       "6943      7.577860  1.030470  \n",
       "6944     -2.066424 -0.051582  \n",
       "6945     -7.945717 -0.507400  "
      ]
     },
     "execution_count": 33,
     "metadata": {},
     "output_type": "execute_result"
    }
   ],
   "source": [
    "df.tail()"
   ]
  },
  {
   "cell_type": "code",
   "execution_count": 34,
   "metadata": {},
   "outputs": [],
   "source": [
    "#Target flexible way\n",
    "pipdiff = 500*1e-5 #for TP\n",
    "SLTPRatio = 2 #pipdiff/Ratio gives SL\n",
    "\n",
    "def mytarget(barsupfront, df1):\n",
    "    length = len(df1)\n",
    "    high = list(df1['High'])\n",
    "    low = list(df1['Low'])\n",
    "    close = list(df1['Close'])\n",
    "    open = list(df1['Open'])\n",
    "    trendcat = [None] * length\n",
    "    \n",
    "    for line in range (0,length-barsupfront-2):\n",
    "        valueOpenLow = 0\n",
    "        valueOpenHigh = 0\n",
    "        for i in range(1,barsupfront+2):\n",
    "            value1 = open[line+1]-low[line+i]\n",
    "            value2 = open[line+1]-high[line+i]\n",
    "            valueOpenLow = max(value1, valueOpenLow)\n",
    "            valueOpenHigh = min(value2, valueOpenHigh)\n",
    "\n",
    "            if ( (valueOpenLow >= pipdiff) and (-valueOpenHigh <= (pipdiff/SLTPRatio)) ):\n",
    "                trendcat[line] = 1 #-1 downtrend\n",
    "                break\n",
    "            elif ( (valueOpenLow <= (pipdiff/SLTPRatio)) and (-valueOpenHigh >= pipdiff) ):\n",
    "                trendcat[line] = 2 # uptrend\n",
    "                break\n",
    "            else:\n",
    "                trendcat[line] = 0 # no clear trend\n",
    "            \n",
    "    return trendcat"
   ]
  },
  {
   "cell_type": "code",
   "execution_count": 35,
   "metadata": {},
   "outputs": [
    {
     "data": {
      "text/html": [
       "<div>\n",
       "<style scoped>\n",
       "    .dataframe tbody tr th:only-of-type {\n",
       "        vertical-align: middle;\n",
       "    }\n",
       "\n",
       "    .dataframe tbody tr th {\n",
       "        vertical-align: top;\n",
       "    }\n",
       "\n",
       "    .dataframe thead th {\n",
       "        text-align: right;\n",
       "    }\n",
       "</style>\n",
       "<table border=\"1\" class=\"dataframe\">\n",
       "  <thead>\n",
       "    <tr style=\"text-align: right;\">\n",
       "      <th></th>\n",
       "      <th>Date</th>\n",
       "      <th>Open</th>\n",
       "      <th>High</th>\n",
       "      <th>Low</th>\n",
       "      <th>Close</th>\n",
       "      <th>Adj Close</th>\n",
       "      <th>Volume</th>\n",
       "      <th>ATR</th>\n",
       "      <th>RSI</th>\n",
       "      <th>Average</th>\n",
       "      <th>MA40</th>\n",
       "      <th>MA80</th>\n",
       "      <th>MA160</th>\n",
       "      <th>slopeMA40</th>\n",
       "      <th>slopeMA80</th>\n",
       "      <th>slopeMA160</th>\n",
       "      <th>AverageSlope</th>\n",
       "      <th>RSISlope</th>\n",
       "      <th>mytarget</th>\n",
       "    </tr>\n",
       "  </thead>\n",
       "  <tbody>\n",
       "    <tr>\n",
       "      <th>0</th>\n",
       "      <td>1996-01-01</td>\n",
       "      <td>15.859429</td>\n",
       "      <td>15.944529</td>\n",
       "      <td>15.754989</td>\n",
       "      <td>15.917452</td>\n",
       "      <td>10.477990</td>\n",
       "      <td>48051995.0</td>\n",
       "      <td>NaN</td>\n",
       "      <td>NaN</td>\n",
       "      <td>15.849759</td>\n",
       "      <td>NaN</td>\n",
       "      <td>NaN</td>\n",
       "      <td>NaN</td>\n",
       "      <td>NaN</td>\n",
       "      <td>NaN</td>\n",
       "      <td>NaN</td>\n",
       "      <td>NaN</td>\n",
       "      <td>NaN</td>\n",
       "      <td>0.0</td>\n",
       "    </tr>\n",
       "    <tr>\n",
       "      <th>1</th>\n",
       "      <td>1996-01-02</td>\n",
       "      <td>15.878770</td>\n",
       "      <td>15.956133</td>\n",
       "      <td>15.677626</td>\n",
       "      <td>15.793671</td>\n",
       "      <td>10.396508</td>\n",
       "      <td>77875009.0</td>\n",
       "      <td>NaN</td>\n",
       "      <td>NaN</td>\n",
       "      <td>15.816879</td>\n",
       "      <td>NaN</td>\n",
       "      <td>NaN</td>\n",
       "      <td>NaN</td>\n",
       "      <td>NaN</td>\n",
       "      <td>NaN</td>\n",
       "      <td>NaN</td>\n",
       "      <td>NaN</td>\n",
       "      <td>NaN</td>\n",
       "      <td>0.0</td>\n",
       "    </tr>\n",
       "    <tr>\n",
       "      <th>2</th>\n",
       "      <td>1996-01-03</td>\n",
       "      <td>16.052837</td>\n",
       "      <td>16.783918</td>\n",
       "      <td>15.878770</td>\n",
       "      <td>15.913584</td>\n",
       "      <td>10.475445</td>\n",
       "      <td>96602936.0</td>\n",
       "      <td>NaN</td>\n",
       "      <td>NaN</td>\n",
       "      <td>16.331344</td>\n",
       "      <td>NaN</td>\n",
       "      <td>NaN</td>\n",
       "      <td>NaN</td>\n",
       "      <td>NaN</td>\n",
       "      <td>NaN</td>\n",
       "      <td>NaN</td>\n",
       "      <td>NaN</td>\n",
       "      <td>NaN</td>\n",
       "      <td>0.0</td>\n",
       "    </tr>\n",
       "    <tr>\n",
       "      <th>3</th>\n",
       "      <td>1996-01-04</td>\n",
       "      <td>15.762726</td>\n",
       "      <td>15.813012</td>\n",
       "      <td>15.553845</td>\n",
       "      <td>15.766594</td>\n",
       "      <td>10.378684</td>\n",
       "      <td>100099436.0</td>\n",
       "      <td>NaN</td>\n",
       "      <td>NaN</td>\n",
       "      <td>15.683429</td>\n",
       "      <td>NaN</td>\n",
       "      <td>NaN</td>\n",
       "      <td>NaN</td>\n",
       "      <td>NaN</td>\n",
       "      <td>NaN</td>\n",
       "      <td>NaN</td>\n",
       "      <td>NaN</td>\n",
       "      <td>NaN</td>\n",
       "      <td>1.0</td>\n",
       "    </tr>\n",
       "    <tr>\n",
       "      <th>4</th>\n",
       "      <td>1996-01-05</td>\n",
       "      <td>15.704703</td>\n",
       "      <td>15.704703</td>\n",
       "      <td>15.522900</td>\n",
       "      <td>15.658285</td>\n",
       "      <td>10.307390</td>\n",
       "      <td>76935930.0</td>\n",
       "      <td>NaN</td>\n",
       "      <td>NaN</td>\n",
       "      <td>15.613802</td>\n",
       "      <td>NaN</td>\n",
       "      <td>NaN</td>\n",
       "      <td>NaN</td>\n",
       "      <td>NaN</td>\n",
       "      <td>NaN</td>\n",
       "      <td>NaN</td>\n",
       "      <td>NaN</td>\n",
       "      <td>NaN</td>\n",
       "      <td>0.0</td>\n",
       "    </tr>\n",
       "  </tbody>\n",
       "</table>\n",
       "</div>"
      ],
      "text/plain": [
       "         Date       Open       High        Low      Close  Adj Close  \\\n",
       "0  1996-01-01  15.859429  15.944529  15.754989  15.917452  10.477990   \n",
       "1  1996-01-02  15.878770  15.956133  15.677626  15.793671  10.396508   \n",
       "2  1996-01-03  16.052837  16.783918  15.878770  15.913584  10.475445   \n",
       "3  1996-01-04  15.762726  15.813012  15.553845  15.766594  10.378684   \n",
       "4  1996-01-05  15.704703  15.704703  15.522900  15.658285  10.307390   \n",
       "\n",
       "        Volume  ATR  RSI    Average  MA40  MA80  MA160  slopeMA40  slopeMA80  \\\n",
       "0   48051995.0  NaN  NaN  15.849759   NaN   NaN    NaN        NaN        NaN   \n",
       "1   77875009.0  NaN  NaN  15.816879   NaN   NaN    NaN        NaN        NaN   \n",
       "2   96602936.0  NaN  NaN  16.331344   NaN   NaN    NaN        NaN        NaN   \n",
       "3  100099436.0  NaN  NaN  15.683429   NaN   NaN    NaN        NaN        NaN   \n",
       "4   76935930.0  NaN  NaN  15.613802   NaN   NaN    NaN        NaN        NaN   \n",
       "\n",
       "   slopeMA160  AverageSlope  RSISlope  mytarget  \n",
       "0         NaN           NaN       NaN       0.0  \n",
       "1         NaN           NaN       NaN       0.0  \n",
       "2         NaN           NaN       NaN       0.0  \n",
       "3         NaN           NaN       NaN       1.0  \n",
       "4         NaN           NaN       NaN       0.0  "
      ]
     },
     "execution_count": 35,
     "metadata": {},
     "output_type": "execute_result"
    }
   ],
   "source": [
    "# mytarget(barsfront to take into account, dataframe)\n",
    "df['mytarget'] = mytarget(16, df)\n",
    "df.head()"
   ]
  },
  {
   "cell_type": "code",
   "execution_count": 36,
   "metadata": {},
   "outputs": [
    {
     "name": "stderr",
     "output_type": "stream",
     "text": [
      "D:\\ProgramData\\Anaconda3\\lib\\site-packages\\ipykernel_launcher.py:5: UserWarning: To output multiple subplots, the figure containing the passed axes is being cleared\n",
      "  \"\"\"\n"
     ]
    },
    {
     "data": {
      "image/png": "[encoded data removed]",
      "text/plain": [
       "<Figure size 1080x1440 with 16 Axes>"
      ]
     },
     "metadata": {
      "needs_background": "light"
     },
     "output_type": "display_data"
    }
   ],
   "source": [
    "import matplotlib.pyplot as plt\n",
    "fig = plt.figure(figsize = (15,20))\n",
    "ax = fig.gca()\n",
    "df_model= df[['Volume', 'ATR', 'RSI', 'Average', 'MA40', 'MA80', 'MA160', 'slopeMA40', 'slopeMA80', 'slopeMA160', 'AverageSlope', 'RSISlope', 'mytarget']] \n",
    "df_model.hist(ax = ax)\n",
    "plt.show()"
   ]
  },
  {
   "cell_type": "markdown",
   "metadata": {},
   "source": [
    "## RSI as an Indicator how is it?"
   ]
  },
  {
   "cell_type": "code",
   "execution_count": 39,
   "metadata": {},
   "outputs": [
    {
     "data": {
      "image/png": "[encoded data removed]",
      "text/plain": [
       "<Figure size 432x288 with 1 Axes>"
      ]
     },
     "metadata": {
      "needs_background": "light"
     },
     "output_type": "display_data"
    }
   ],
   "source": [
    "from matplotlib import pyplot\n",
    "df_up=df.RSI[ df['mytarget'] == 2 ]\n",
    "df_down=df.RSI[ df['mytarget'] == 1 ]\n",
    "df_unclear=df.RSI[ df['mytarget'] == 0 ]\n",
    "pyplot.hist(df_unclear, bins=100, alpha=0.5, label='unclear')\n",
    "pyplot.hist(df_down, bins=100, alpha=0.5, label='down')\n",
    "pyplot.hist(df_up, bins=100, alpha=0.5, label='up')\n",
    "\n",
    "pyplot.legend(loc='upper right')\n",
    "pyplot.show()"
   ]
  },
  {
   "cell_type": "code",
   "execution_count": 40,
   "metadata": {},
   "outputs": [
    {
     "name": "stdout",
     "output_type": "stream",
     "text": [
      "            ATR        RSI      Average         MA40         MA80  \\\n",
      "170    0.728075  50.104236    16.315871    15.920063    17.194909   \n",
      "171    0.708107  48.689203    16.101190    15.917742    17.158114   \n",
      "172    0.696682  53.512960    16.313937    15.935149    17.124026   \n",
      "173    0.675576  51.707787    16.453190    15.975184    17.086698   \n",
      "174    0.649916  51.882594    16.335213    16.016960    17.055462   \n",
      "...         ...        ...          ...          ...          ...   \n",
      "6923  36.139135  62.032817  2599.125000  2499.737506  2414.261261   \n",
      "6924  35.992176  61.141239  2592.400024  2502.552509  2416.750012   \n",
      "6925  37.612562  67.552142  2610.250000  2506.532507  2419.625638   \n",
      "6926  37.579432  66.431699  2646.474976  2509.957507  2422.328763   \n",
      "6927  41.820455  75.169073  2715.500000  2516.326257  2427.026263   \n",
      "\n",
      "            MA160  slopeMA40  slopeMA80  slopeMA160  AverageSlope  RSISlope  \n",
      "170     16.842400  -0.012016  -0.046162    0.002328      0.217722  2.431927  \n",
      "171     16.848806  -0.006018  -0.046708    0.003809      0.130799  0.937088  \n",
      "172     16.860725  -0.001694  -0.045239    0.005444      0.008565  0.051290  \n",
      "173     16.874022   0.006474  -0.041142    0.007695     -0.029066 -0.059621  \n",
      "174     16.884635   0.017863  -0.037209    0.009558     -0.001216  0.018005  \n",
      "...           ...        ...        ...         ...           ...       ...  \n",
      "6923  2460.066885   2.904570   2.544732   -0.197509     19.685017  3.294965  \n",
      "6924  2460.141885   3.261785   2.859964   -0.109572     22.815022  3.196769  \n",
      "6925  2460.185323   3.580107   3.007232   -0.026107     20.382157  2.691423  \n",
      "6926  2460.276260   3.561786   2.919340    0.028544     16.146432  0.978154  \n",
      "6927  2461.074698   3.884536   3.066340    0.149545     22.686419  1.604443  \n",
      "\n",
      "[5325 rows x 11 columns]\n"
     ]
    }
   ],
   "source": [
    "df_model=df_model.dropna()\n",
    "\n",
    "attributes=['ATR', 'RSI', 'Average', 'MA40', 'MA80', 'MA160', 'slopeMA40', 'slopeMA80', 'slopeMA160', 'AverageSlope', 'RSISlope']\n",
    "X = df_model[attributes]\n",
    "y = df_model[\"mytarget\"]\n",
    "\n",
    "print(X)"
   ]
  },
  {
   "cell_type": "code",
   "execution_count": 41,
   "metadata": {},
   "outputs": [],
   "source": [
    "from sklearn.model_selection import train_test_split\n",
    "X_train, X_test, y_train, y_test = train_test_split(X, y, test_size=0.2, random_state=1)"
   ]
  },
  {
   "cell_type": "code",
   "execution_count": 42,
   "metadata": {},
   "outputs": [],
   "source": [
    "from sklearn.neighbors import KNeighborsClassifier\n",
    "\n",
    "model = KNeighborsClassifier(n_neighbors=200, weights='uniform', algorithm='kd_tree', leaf_size=30, p=1, metric='minkowski', metric_params=None, n_jobs=1)\n",
    "model.fit(X_train, y_train)\n",
    "\n",
    "y_pred_train = model.predict(X_train)\n",
    "y_pred_test = model.predict(X_test)"
   ]
  },
  {
   "cell_type": "code",
   "execution_count": 43,
   "metadata": {},
   "outputs": [
    {
     "name": "stdout",
     "output_type": "stream",
     "text": [
      "Accuracy train: 84.88%\n",
      "Accuracy test: 83.85%\n",
      "0.0    84.676056\n",
      "1.0     8.713615\n",
      "2.0     6.610329\n",
      "Name: mytarget, dtype: float64\n",
      "Accuracy Gambler: 31.92%\n"
     ]
    }
   ],
   "source": [
    "from sklearn.metrics import accuracy_score\n",
    "accuracy_train = accuracy_score(y_train, y_pred_train)\n",
    "accuracy_test = accuracy_score(y_test, y_pred_test)\n",
    "print(\"Accuracy train: %.2f%%\" % (accuracy_train * 100.0))\n",
    "print(\"Accuracy test: %.2f%%\" % (accuracy_test * 100.0))\n",
    "\n",
    "#------------------------------------------------------------------\n",
    "#--- How should I compare my accuracy ?\n",
    "print(df_model['mytarget'].value_counts()*100/df_model['mytarget'].count())\n",
    "\n",
    "# Random Model, gambler?\n",
    "pred_test = np.random.choice([0, 1, 2], len(y_pred_test))\n",
    "accuracy_test = accuracy_score(y_test, pred_test)\n",
    "print(\"Accuracy Gambler: %.2f%%\" % (accuracy_test * 100.0))"
   ]
  },
  {
   "cell_type": "code",
   "execution_count": 47,
   "metadata": {},
   "outputs": [
    {
     "name": "stdout",
     "output_type": "stream",
     "text": [
      "Requirement already satisfied: xgboost in d:\\programdata\\anaconda3\\lib\\site-packages (1.6.2)\n",
      "Requirement already satisfied: numpy in d:\\programdata\\anaconda3\\lib\\site-packages (from xgboost) (1.21.6)\n",
      "Requirement already satisfied: scipy in d:\\programdata\\anaconda3\\lib\\site-packages (from xgboost) (1.2.1)\n"
     ]
    },
    {
     "name": "stderr",
     "output_type": "stream",
     "text": [
      "WARNING: Ignoring invalid distribution -umexpr (d:\\programdata\\anaconda3\\lib\\site-packages)\n",
      "WARNING: Ignoring invalid distribution -umexpr (d:\\programdata\\anaconda3\\lib\\site-packages)\n",
      "WARNING: Ignoring invalid distribution -umexpr (d:\\programdata\\anaconda3\\lib\\site-packages)\n",
      "WARNING: Ignoring invalid distribution -umexpr (d:\\programdata\\anaconda3\\lib\\site-packages)\n"
     ]
    }
   ],
   "source": [
    "!pip install xgboost"
   ]
  },
  {
   "cell_type": "code",
   "execution_count": 48,
   "metadata": {},
   "outputs": [
    {
     "name": "stdout",
     "output_type": "stream",
     "text": [
      "****Train Results****\n",
      "Accuracy: 98.2394%\n",
      "****Test Results****\n",
      "Accuracy: 83.6620%\n"
     ]
    }
   ],
   "source": [
    "from xgboost import XGBClassifier\n",
    "model = XGBClassifier()\n",
    "model.fit(X_train, y_train)\n",
    "pred_train = model.predict(X_train)\n",
    "pred_test = model.predict(X_test)\n",
    "acc_train = accuracy_score(y_train, pred_train)\n",
    "acc_test = accuracy_score(y_test, pred_test)\n",
    "print('****Train Results****')\n",
    "print(\"Accuracy: {:.4%}\".format(acc_train))\n",
    "print('****Test Results****')\n",
    "print(\"Accuracy: {:.4%}\".format(acc_test))"
   ]
  },
  {
   "cell_type": "code",
   "execution_count": 49,
   "metadata": {},
   "outputs": [
    {
     "name": "stdout",
     "output_type": "stream",
     "text": [
      "****Train Results****\n",
      "Accuracy: 98.3568%\n",
      "****Test Results****\n",
      "Accuracy: 87.8873%\n"
     ]
    }
   ],
   "source": [
    "#random sampling\n",
    "#X_train, X_test, y_train, y_test = train_test_split(X, y, test_size=0.2, random_state=10)\n",
    "\n",
    "#sequential sampling\n",
    "train_index = int(0.8 * len(X))\n",
    "X_train, X_test = X[:train_index], X[train_index:]\n",
    "y_train, y_test = y[:train_index], y[train_index:]\n",
    "\n",
    "model = XGBClassifier()\n",
    "model.fit(X_train, y_train)\n",
    "pred_train = model.predict(X_train)\n",
    "pred_test = model.predict(X_test)\n",
    "acc_train = accuracy_score(y_train, pred_train)\n",
    "acc_test = accuracy_score(y_test, pred_test)\n",
    "print('****Train Results****')\n",
    "print(\"Accuracy: {:.4%}\".format(acc_train))\n",
    "print('****Test Results****')\n",
    "print(\"Accuracy: {:.4%}\".format(acc_test))"
   ]
  },
  {
   "cell_type": "code",
   "execution_count": 50,
   "metadata": {},
   "outputs": [
    {
     "data": {
      "image/png": "[encoded data removed]",
      "text/plain": [
       "<Figure size 432x288 with 1 Axes>"
      ]
     },
     "metadata": {
      "needs_background": "light"
     },
     "output_type": "display_data"
    }
   ],
   "source": [
    "from matplotlib import pyplot\n",
    "from xgboost import plot_importance\n",
    "#plot feature importance\n",
    "plot_importance(model)\n",
    "pyplot.show()"
   ]
  },
  {
   "cell_type": "code",
   "execution_count": null,
   "metadata": {},
   "outputs": [],
   "source": []
  }
 ],
 "metadata": {
  "kernelspec": {
   "display_name": "Python 3",
   "language": "python",
   "name": "python3"
  },
  "language_info": {
   "codemirror_mode": {
    "name": "ipython",
    "version": 3
   },
   "file_extension": ".py",
   "mimetype": "text/x-python",
   "name": "python",
   "nbconvert_exporter": "python",
   "pygments_lexer": "ipython3",
   "version": "3.7.3"
  }
 },
 "nbformat": 4,
 "nbformat_minor": 2
}
